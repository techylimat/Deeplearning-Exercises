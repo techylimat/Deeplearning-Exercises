{
  "nbformat": 4,
  "nbformat_minor": 0,
  "metadata": {
    "colab": {
      "provenance": [],
      "gpuType": "T4"
    },
    "kernelspec": {
      "name": "python3",
      "display_name": "Python 3"
    },
    "language_info": {
      "name": "python"
    },
    "accelerator": "GPU"
  },
  "cells": [
    {
      "cell_type": "markdown",
      "source": [
        "1. Create a straight line dataset using the linear regression formula (weight * X + bias).\n",
        "Set weight=0.3 and bias=0.9 there should be at least 100 datapoints total.\n",
        "Split the data into 80% training, 20% testing.\n",
        "Plot the training and testing data so it becomes visual."
      ],
      "metadata": {
        "id": "BI_nfxInxRa-"
      }
    },
    {
      "cell_type": "code",
      "execution_count": 10,
      "metadata": {
        "colab": {
          "base_uri": "https://localhost:8080/",
          "height": 35
        },
        "id": "PY9x3AJMwyzA",
        "outputId": "c6df2e29-f978-49df-8164-77e713c8bf1d"
      },
      "outputs": [
        {
          "output_type": "execute_result",
          "data": {
            "text/plain": [
              "'2.5.1+cu124'"
            ],
            "application/vnd.google.colaboratory.intrinsic+json": {
              "type": "string"
            }
          },
          "metadata": {},
          "execution_count": 10
        }
      ],
      "source": [
        "import torch\n",
        "from torch import nn\n",
        "import matplotlib.pyplot as plt\n",
        "\n",
        "# Check PyTorch version\n",
        "torch.__version__"
      ]
    },
    {
      "cell_type": "code",
      "source": [
        "# Setup device-agnostic code\n",
        "device = \"cuda\" if torch.cuda.is_available() else \"cpu\"\n",
        "device"
      ],
      "metadata": {
        "id": "11d35PbDw9nA",
        "colab": {
          "base_uri": "https://localhost:8080/",
          "height": 35
        },
        "outputId": "d47c4902-0d42-4dbf-ff74-4b6c4fa4e2c2"
      },
      "execution_count": 11,
      "outputs": [
        {
          "output_type": "execute_result",
          "data": {
            "text/plain": [
              "'cuda'"
            ],
            "application/vnd.google.colaboratory.intrinsic+json": {
              "type": "string"
            }
          },
          "metadata": {},
          "execution_count": 11
        }
      ]
    },
    {
      "cell_type": "code",
      "source": [
        "# Create *known* parameters\n",
        "weight = 0.3\n",
        "bias = 0.9\n",
        "\n",
        "# Create data\n",
        "start = 0\n",
        "end = 1\n",
        "step = 0.01\n",
        "X = torch.arange(start, end, step).unsqueeze(dim=1)\n",
        "y = weight * X + bias\n",
        "print(f\"Number of X samples: {len(X)}\")\n",
        "print(f\"Number of y samples: {len(y)}\")\n",
        "print(f\"First 10 X & y samples:\\nX: {X[:10]}\\ny: {y[:10]}\")\n"
      ],
      "metadata": {
        "id": "uXn1C0NW_JAj",
        "colab": {
          "base_uri": "https://localhost:8080/"
        },
        "outputId": "86617dc2-7a50-40e8-d6eb-6464ce8d434f"
      },
      "execution_count": 13,
      "outputs": [
        {
          "output_type": "stream",
          "name": "stdout",
          "text": [
            "Number of X samples: 100\n",
            "Number of y samples: 100\n",
            "First 10 X & y samples:\n",
            "X: tensor([[0.0000],\n",
            "        [0.0100],\n",
            "        [0.0200],\n",
            "        [0.0300],\n",
            "        [0.0400],\n",
            "        [0.0500],\n",
            "        [0.0600],\n",
            "        [0.0700],\n",
            "        [0.0800],\n",
            "        [0.0900]])\n",
            "y: tensor([[0.9000],\n",
            "        [0.9030],\n",
            "        [0.9060],\n",
            "        [0.9090],\n",
            "        [0.9120],\n",
            "        [0.9150],\n",
            "        [0.9180],\n",
            "        [0.9210],\n",
            "        [0.9240],\n",
            "        [0.9270]])\n"
          ]
        }
      ]
    },
    {
      "cell_type": "code",
      "source": [
        "# Create train/test split\n",
        "train_split = int(0.8 * len(X)) # 80% of data used for training set, 20% for testing\n",
        "X_train, y_train = X[:train_split], y[:train_split]\n",
        "X_test, y_test = X[train_split:], y[train_split:]\n",
        "\n",
        "len(X_train), len(y_train), len(X_test), len(y_test)"
      ],
      "metadata": {
        "colab": {
          "base_uri": "https://localhost:8080/"
        },
        "id": "sruel_rgBDpd",
        "outputId": "83f5ffb9-31c1-458b-b8aa-7b6367ff63bb"
      },
      "execution_count": 14,
      "outputs": [
        {
          "output_type": "execute_result",
          "data": {
            "text/plain": [
              "(80, 80, 20, 20)"
            ]
          },
          "metadata": {},
          "execution_count": 14
        }
      ]
    },
    {
      "cell_type": "code",
      "source": [
        "# Plot the training and testing data\n",
        "def plot_predictions(train_data=X_train,\n",
        "                     train_labels=y_train,\n",
        "                     test_data=X_test,\n",
        "                     test_labels=y_test,\n",
        "                     predictions=None):\n",
        "  \"\"\"\n",
        "  Plots training data, test data and compares predictions.\n",
        "  \"\"\"\n",
        "  plt.figure(figsize=(10, 7))\n",
        "\n",
        "  # Plot training data in blue\n",
        "  plt.scatter(train_data, train_labels, c=\"b\", s=4, label=\"Training data\")\n",
        "\n",
        "  # Plot test data in green\n",
        "  plt.scatter(test_data, test_labels, c=\"g\", s=4, label=\"Testing data\")\n",
        "\n",
        "  if predictions is not None:\n",
        "    # Plot the predictions in red (predictions were made on the test data)\n",
        "    plt.scatter(test_data, predictions, c=\"r\", s=4, label=\"Predictions\")\n",
        "\n",
        "  # Show the legend\n",
        "  plt.legend(prop={\"size\": 14});\n",
        "plot_predictions();"
      ],
      "metadata": {
        "colab": {
          "base_uri": "https://localhost:8080/",
          "height": 599
        },
        "id": "4bTFqCVuBlE6",
        "outputId": "924eef00-d869-4b13-ba13-36d440527a63"
      },
      "execution_count": 16,
      "outputs": [
        {
          "output_type": "display_data",
          "data": {
            "text/plain": [
              "<Figure size 1000x700 with 1 Axes>"
            ],
            "image/png": "[encoded data removed]"
          },
          "metadata": {}
        }
      ]
    },
    {
      "cell_type": "markdown",
      "source": [
        "2. Build a PyTorch model by subclassing nn.Module.\n",
        "Inside should be a randomly initialized nn.Parameter() with requires_grad=True, one for weights and one for bias.\n",
        "Implement the forward() method to compute the linear regression function you used to create the dataset in 1.\n",
        "Once you've constructed the model, make an instance of it and check its state_dict().\n",
        "Note: If you'd like to use nn.Linear() instead of nn.Parameter() you can."
      ],
      "metadata": {
        "id": "LmwnSL8cxxAF"
      }
    },
    {
      "cell_type": "code",
      "source": [
        "# Create a Linear Regression model class by subclassing nn.Module\n",
        "class LinearRegressionModel(nn.Module):\n",
        "    def __init__(self):\n",
        "        super().__init__()\n",
        "        self.weights = nn.Parameter(torch.randn(1, dtype=torch.float), requires_grad=True)\n",
        "\n",
        "        self.bias = nn.Parameter(torch.randn(1,  dtype=torch.float), requires_grad=True)\n",
        "\n",
        "    # Forward defines the computation in the model\n",
        "    def forward(self, x):\n",
        "        return self.weights * x + self.bias\n",
        "\n",
        "# Set manual seed\n",
        "torch.manual_seed(42)\n",
        "\n",
        "# Create an instance of the model\n",
        "model_0 = LinearRegressionModel()\n",
        "model_0,model_0.state_dict()"
      ],
      "metadata": {
        "colab": {
          "base_uri": "https://localhost:8080/"
        },
        "id": "ILoUgHzoEmr8",
        "outputId": "1a33caf9-0fff-4e4f-acd8-d3dfc221d002"
      },
      "execution_count": 17,
      "outputs": [
        {
          "output_type": "execute_result",
          "data": {
            "text/plain": [
              "(LinearRegressionModel(),\n",
              " OrderedDict([('weights', tensor([0.3367])), ('bias', tensor([0.1288]))]))"
            ]
          },
          "metadata": {},
          "execution_count": 17
        }
      ]
    },
    {
      "cell_type": "code",
      "source": [
        "# Instantiate the model and put it to the target device\n",
        "model_0.to(device)\n",
        "list(model_0.parameters())\n"
      ],
      "metadata": {
        "colab": {
          "base_uri": "https://localhost:8080/"
        },
        "id": "JGeayLJXG4Ix",
        "outputId": "02bb6b4b-f962-4cc2-c7aa-1d14a9822bf3"
      },
      "execution_count": 18,
      "outputs": [
        {
          "output_type": "execute_result",
          "data": {
            "text/plain": [
              "[Parameter containing:\n",
              " tensor([0.3367], device='cuda:0', requires_grad=True),\n",
              " Parameter containing:\n",
              " tensor([0.1288], device='cuda:0', requires_grad=True)]"
            ]
          },
          "metadata": {},
          "execution_count": 18
        }
      ]
    },
    {
      "cell_type": "markdown",
      "source": [
        "3. Create a loss function and optimizer using nn.L1Loss() and torch.optim.SGD(params, lr) respectively.\n",
        "Set the learning rate of the optimizer to be 0.01 and the parameters to optimize should be the model parameters from the model you created in 2.\n",
        "Write a training loop to perform the appropriate training steps for 300 epochs.\n",
        "The training loop should test the model on the test dataset every 20 epochs."
      ],
      "metadata": {
        "id": "SHXZN4jhyDap"
      }
    },
    {
      "cell_type": "code",
      "source": [
        "# Create the loss function and optimizer\n",
        "loss_fn = nn.L1Loss()\n",
        "optimizer = torch.optim.SGD(params=model_0.parameters(), lr=0.01)"
      ],
      "metadata": {
        "id": "0v34-e6oI2ko"
      },
      "execution_count": 34,
      "outputs": []
    },
    {
      "cell_type": "code",
      "source": [
        "torch.manual_seed(42)\n",
        "\n",
        "# Number of epochs\n",
        "epochs = 300\n",
        "\n",
        "# Send data to target device\n",
        "X_train = X_train.to(device)\n",
        "X_test = X_test.to(device)\n",
        "y_train = y_train.to(device)\n",
        "y_test = y_test.to(device)\n",
        "\n",
        "for epoch in range(epochs):\n",
        "   ### Training\n",
        "\n",
        "\n",
        "    # Put model in training mode\n",
        "    model_0.train()\n",
        "\n",
        "    # 1. Forward pass\n",
        "    y_pred = model_0(X_train)\n",
        "    # print(y_pred)\n",
        "\n",
        "    # 2. Calculate the loss\n",
        "    loss = loss_fn(y_pred, y_train)\n",
        "\n",
        "    # 3. Zero gradient\n",
        "    optimizer.zero_grad()\n",
        "\n",
        "    # 4. Loss backwards\n",
        "    loss.backward()\n",
        "\n",
        "    # 5. Progress the optimizer\n",
        "    optimizer.step()\n",
        "\n",
        "\n",
        " ### Perform testing every 20 epochs\n",
        "    if epoch % 20 == 0:\n",
        "    # Put model in evaluation mode and setup inference context\n",
        "        model_0.eval()\n",
        "    with torch.inference_mode():\n",
        "      # 1. Forward pass\n",
        "      y_preds = model_0(X_test)\n",
        "      # 2. Calculate test loss\n",
        "      test_loss = loss_fn(y_preds,y_test)\n",
        "      # Print out what's happening\n",
        "      print(f\"Epoch: {epoch} | Train loss: {loss:.3f} | Test loss: {test_loss:.3f}\")"
      ],
      "metadata": {
        "id": "p2JgDbbrJKPg",
        "colab": {
          "base_uri": "https://localhost:8080/"
        },
        "outputId": "345b4475-728f-45cf-cc64-b6dc82c5acb0"
      },
      "execution_count": 20,
      "outputs": [
        {
          "output_type": "stream",
          "name": "stdout",
          "text": [
            "Epoch: 0 | Train loss: 0.757 | Test loss: 0.725\n",
            "Epoch: 1 | Train loss: 0.745 | Test loss: 0.711\n",
            "Epoch: 2 | Train loss: 0.734 | Test loss: 0.698\n",
            "Epoch: 3 | Train loss: 0.722 | Test loss: 0.684\n",
            "Epoch: 4 | Train loss: 0.710 | Test loss: 0.671\n",
            "Epoch: 5 | Train loss: 0.699 | Test loss: 0.657\n",
            "Epoch: 6 | Train loss: 0.687 | Test loss: 0.644\n",
            "Epoch: 7 | Train loss: 0.676 | Test loss: 0.630\n",
            "Epoch: 8 | Train loss: 0.664 | Test loss: 0.617\n",
            "Epoch: 9 | Train loss: 0.653 | Test loss: 0.603\n",
            "Epoch: 10 | Train loss: 0.641 | Test loss: 0.589\n",
            "Epoch: 11 | Train loss: 0.630 | Test loss: 0.576\n",
            "Epoch: 12 | Train loss: 0.618 | Test loss: 0.562\n",
            "Epoch: 13 | Train loss: 0.606 | Test loss: 0.549\n",
            "Epoch: 14 | Train loss: 0.595 | Test loss: 0.535\n",
            "Epoch: 15 | Train loss: 0.583 | Test loss: 0.522\n",
            "Epoch: 16 | Train loss: 0.572 | Test loss: 0.508\n",
            "Epoch: 17 | Train loss: 0.560 | Test loss: 0.495\n",
            "Epoch: 18 | Train loss: 0.549 | Test loss: 0.481\n",
            "Epoch: 19 | Train loss: 0.537 | Test loss: 0.468\n",
            "Epoch: 20 | Train loss: 0.525 | Test loss: 0.454\n",
            "Epoch: 21 | Train loss: 0.514 | Test loss: 0.441\n",
            "Epoch: 22 | Train loss: 0.502 | Test loss: 0.427\n",
            "Epoch: 23 | Train loss: 0.491 | Test loss: 0.414\n",
            "Epoch: 24 | Train loss: 0.479 | Test loss: 0.400\n",
            "Epoch: 25 | Train loss: 0.468 | Test loss: 0.386\n",
            "Epoch: 26 | Train loss: 0.456 | Test loss: 0.373\n",
            "Epoch: 27 | Train loss: 0.445 | Test loss: 0.359\n",
            "Epoch: 28 | Train loss: 0.433 | Test loss: 0.346\n",
            "Epoch: 29 | Train loss: 0.421 | Test loss: 0.332\n",
            "Epoch: 30 | Train loss: 0.410 | Test loss: 0.319\n",
            "Epoch: 31 | Train loss: 0.398 | Test loss: 0.305\n",
            "Epoch: 32 | Train loss: 0.387 | Test loss: 0.292\n",
            "Epoch: 33 | Train loss: 0.375 | Test loss: 0.278\n",
            "Epoch: 34 | Train loss: 0.364 | Test loss: 0.265\n",
            "Epoch: 35 | Train loss: 0.352 | Test loss: 0.251\n",
            "Epoch: 36 | Train loss: 0.341 | Test loss: 0.238\n",
            "Epoch: 37 | Train loss: 0.329 | Test loss: 0.224\n",
            "Epoch: 38 | Train loss: 0.317 | Test loss: 0.210\n",
            "Epoch: 39 | Train loss: 0.306 | Test loss: 0.197\n",
            "Epoch: 40 | Train loss: 0.294 | Test loss: 0.183\n",
            "Epoch: 41 | Train loss: 0.283 | Test loss: 0.170\n",
            "Epoch: 42 | Train loss: 0.271 | Test loss: 0.156\n",
            "Epoch: 43 | Train loss: 0.260 | Test loss: 0.143\n",
            "Epoch: 44 | Train loss: 0.248 | Test loss: 0.129\n",
            "Epoch: 45 | Train loss: 0.236 | Test loss: 0.116\n",
            "Epoch: 46 | Train loss: 0.225 | Test loss: 0.102\n",
            "Epoch: 47 | Train loss: 0.213 | Test loss: 0.089\n",
            "Epoch: 48 | Train loss: 0.202 | Test loss: 0.075\n",
            "Epoch: 49 | Train loss: 0.190 | Test loss: 0.062\n",
            "Epoch: 50 | Train loss: 0.179 | Test loss: 0.048\n",
            "Epoch: 51 | Train loss: 0.167 | Test loss: 0.035\n",
            "Epoch: 52 | Train loss: 0.156 | Test loss: 0.021\n",
            "Epoch: 53 | Train loss: 0.144 | Test loss: 0.014\n",
            "Epoch: 54 | Train loss: 0.132 | Test loss: 0.013\n",
            "Epoch: 55 | Train loss: 0.121 | Test loss: 0.020\n",
            "Epoch: 56 | Train loss: 0.109 | Test loss: 0.033\n",
            "Epoch: 57 | Train loss: 0.098 | Test loss: 0.045\n",
            "Epoch: 58 | Train loss: 0.089 | Test loss: 0.056\n",
            "Epoch: 59 | Train loss: 0.082 | Test loss: 0.065\n",
            "Epoch: 60 | Train loss: 0.077 | Test loss: 0.073\n",
            "Epoch: 61 | Train loss: 0.072 | Test loss: 0.079\n",
            "Epoch: 62 | Train loss: 0.069 | Test loss: 0.085\n",
            "Epoch: 63 | Train loss: 0.067 | Test loss: 0.090\n",
            "Epoch: 64 | Train loss: 0.064 | Test loss: 0.094\n",
            "Epoch: 65 | Train loss: 0.063 | Test loss: 0.098\n",
            "Epoch: 66 | Train loss: 0.061 | Test loss: 0.101\n",
            "Epoch: 67 | Train loss: 0.060 | Test loss: 0.104\n",
            "Epoch: 68 | Train loss: 0.059 | Test loss: 0.106\n",
            "Epoch: 69 | Train loss: 0.058 | Test loss: 0.108\n",
            "Epoch: 70 | Train loss: 0.057 | Test loss: 0.110\n",
            "Epoch: 71 | Train loss: 0.057 | Test loss: 0.112\n",
            "Epoch: 72 | Train loss: 0.056 | Test loss: 0.113\n",
            "Epoch: 73 | Train loss: 0.056 | Test loss: 0.113\n",
            "Epoch: 74 | Train loss: 0.055 | Test loss: 0.114\n",
            "Epoch: 75 | Train loss: 0.055 | Test loss: 0.115\n",
            "Epoch: 76 | Train loss: 0.054 | Test loss: 0.115\n",
            "Epoch: 77 | Train loss: 0.054 | Test loss: 0.116\n",
            "Epoch: 78 | Train loss: 0.053 | Test loss: 0.116\n",
            "Epoch: 79 | Train loss: 0.053 | Test loss: 0.116\n",
            "Epoch: 80 | Train loss: 0.053 | Test loss: 0.116\n",
            "Epoch: 81 | Train loss: 0.052 | Test loss: 0.116\n",
            "Epoch: 82 | Train loss: 0.052 | Test loss: 0.116\n",
            "Epoch: 83 | Train loss: 0.051 | Test loss: 0.115\n",
            "Epoch: 84 | Train loss: 0.051 | Test loss: 0.115\n",
            "Epoch: 85 | Train loss: 0.051 | Test loss: 0.114\n",
            "Epoch: 86 | Train loss: 0.050 | Test loss: 0.114\n",
            "Epoch: 87 | Train loss: 0.050 | Test loss: 0.114\n",
            "Epoch: 88 | Train loss: 0.050 | Test loss: 0.113\n",
            "Epoch: 89 | Train loss: 0.049 | Test loss: 0.113\n",
            "Epoch: 90 | Train loss: 0.049 | Test loss: 0.112\n",
            "Epoch: 91 | Train loss: 0.049 | Test loss: 0.112\n",
            "Epoch: 92 | Train loss: 0.048 | Test loss: 0.111\n",
            "Epoch: 93 | Train loss: 0.048 | Test loss: 0.110\n",
            "Epoch: 94 | Train loss: 0.048 | Test loss: 0.109\n",
            "Epoch: 95 | Train loss: 0.047 | Test loss: 0.109\n",
            "Epoch: 96 | Train loss: 0.047 | Test loss: 0.108\n",
            "Epoch: 97 | Train loss: 0.047 | Test loss: 0.107\n",
            "Epoch: 98 | Train loss: 0.046 | Test loss: 0.106\n",
            "Epoch: 99 | Train loss: 0.046 | Test loss: 0.105\n",
            "Epoch: 100 | Train loss: 0.046 | Test loss: 0.105\n",
            "Epoch: 101 | Train loss: 0.045 | Test loss: 0.104\n",
            "Epoch: 102 | Train loss: 0.045 | Test loss: 0.103\n",
            "Epoch: 103 | Train loss: 0.045 | Test loss: 0.102\n",
            "Epoch: 104 | Train loss: 0.044 | Test loss: 0.102\n",
            "Epoch: 105 | Train loss: 0.044 | Test loss: 0.101\n",
            "Epoch: 106 | Train loss: 0.043 | Test loss: 0.100\n",
            "Epoch: 107 | Train loss: 0.043 | Test loss: 0.099\n",
            "Epoch: 108 | Train loss: 0.043 | Test loss: 0.099\n",
            "Epoch: 109 | Train loss: 0.042 | Test loss: 0.098\n",
            "Epoch: 110 | Train loss: 0.042 | Test loss: 0.097\n",
            "Epoch: 111 | Train loss: 0.042 | Test loss: 0.096\n",
            "Epoch: 112 | Train loss: 0.041 | Test loss: 0.096\n",
            "Epoch: 113 | Train loss: 0.041 | Test loss: 0.095\n",
            "Epoch: 114 | Train loss: 0.041 | Test loss: 0.094\n",
            "Epoch: 115 | Train loss: 0.040 | Test loss: 0.093\n",
            "Epoch: 116 | Train loss: 0.040 | Test loss: 0.092\n",
            "Epoch: 117 | Train loss: 0.040 | Test loss: 0.092\n",
            "Epoch: 118 | Train loss: 0.039 | Test loss: 0.091\n",
            "Epoch: 119 | Train loss: 0.039 | Test loss: 0.090\n",
            "Epoch: 120 | Train loss: 0.039 | Test loss: 0.089\n",
            "Epoch: 121 | Train loss: 0.038 | Test loss: 0.089\n",
            "Epoch: 122 | Train loss: 0.038 | Test loss: 0.088\n",
            "Epoch: 123 | Train loss: 0.038 | Test loss: 0.087\n",
            "Epoch: 124 | Train loss: 0.037 | Test loss: 0.086\n",
            "Epoch: 125 | Train loss: 0.037 | Test loss: 0.086\n",
            "Epoch: 126 | Train loss: 0.037 | Test loss: 0.085\n",
            "Epoch: 127 | Train loss: 0.036 | Test loss: 0.084\n",
            "Epoch: 128 | Train loss: 0.036 | Test loss: 0.083\n",
            "Epoch: 129 | Train loss: 0.036 | Test loss: 0.083\n",
            "Epoch: 130 | Train loss: 0.035 | Test loss: 0.082\n",
            "Epoch: 131 | Train loss: 0.035 | Test loss: 0.081\n",
            "Epoch: 132 | Train loss: 0.035 | Test loss: 0.080\n",
            "Epoch: 133 | Train loss: 0.034 | Test loss: 0.079\n",
            "Epoch: 134 | Train loss: 0.034 | Test loss: 0.079\n",
            "Epoch: 135 | Train loss: 0.034 | Test loss: 0.078\n",
            "Epoch: 136 | Train loss: 0.033 | Test loss: 0.077\n",
            "Epoch: 137 | Train loss: 0.033 | Test loss: 0.076\n",
            "Epoch: 138 | Train loss: 0.033 | Test loss: 0.076\n",
            "Epoch: 139 | Train loss: 0.032 | Test loss: 0.075\n",
            "Epoch: 140 | Train loss: 0.032 | Test loss: 0.074\n",
            "Epoch: 141 | Train loss: 0.031 | Test loss: 0.073\n",
            "Epoch: 142 | Train loss: 0.031 | Test loss: 0.073\n",
            "Epoch: 143 | Train loss: 0.031 | Test loss: 0.072\n",
            "Epoch: 144 | Train loss: 0.030 | Test loss: 0.071\n",
            "Epoch: 145 | Train loss: 0.030 | Test loss: 0.070\n",
            "Epoch: 146 | Train loss: 0.030 | Test loss: 0.069\n",
            "Epoch: 147 | Train loss: 0.029 | Test loss: 0.069\n",
            "Epoch: 148 | Train loss: 0.029 | Test loss: 0.068\n",
            "Epoch: 149 | Train loss: 0.029 | Test loss: 0.067\n",
            "Epoch: 150 | Train loss: 0.028 | Test loss: 0.066\n",
            "Epoch: 151 | Train loss: 0.028 | Test loss: 0.065\n",
            "Epoch: 152 | Train loss: 0.028 | Test loss: 0.065\n",
            "Epoch: 153 | Train loss: 0.027 | Test loss: 0.064\n",
            "Epoch: 154 | Train loss: 0.027 | Test loss: 0.063\n",
            "Epoch: 155 | Train loss: 0.027 | Test loss: 0.062\n",
            "Epoch: 156 | Train loss: 0.026 | Test loss: 0.062\n",
            "Epoch: 157 | Train loss: 0.026 | Test loss: 0.061\n",
            "Epoch: 158 | Train loss: 0.026 | Test loss: 0.060\n",
            "Epoch: 159 | Train loss: 0.025 | Test loss: 0.059\n",
            "Epoch: 160 | Train loss: 0.025 | Test loss: 0.058\n",
            "Epoch: 161 | Train loss: 0.025 | Test loss: 0.057\n",
            "Epoch: 162 | Train loss: 0.024 | Test loss: 0.057\n",
            "Epoch: 163 | Train loss: 0.024 | Test loss: 0.056\n",
            "Epoch: 164 | Train loss: 0.024 | Test loss: 0.055\n",
            "Epoch: 165 | Train loss: 0.023 | Test loss: 0.054\n",
            "Epoch: 166 | Train loss: 0.023 | Test loss: 0.053\n",
            "Epoch: 167 | Train loss: 0.023 | Test loss: 0.052\n",
            "Epoch: 168 | Train loss: 0.022 | Test loss: 0.052\n",
            "Epoch: 169 | Train loss: 0.022 | Test loss: 0.051\n",
            "Epoch: 170 | Train loss: 0.022 | Test loss: 0.050\n",
            "Epoch: 171 | Train loss: 0.021 | Test loss: 0.049\n",
            "Epoch: 172 | Train loss: 0.021 | Test loss: 0.049\n",
            "Epoch: 173 | Train loss: 0.021 | Test loss: 0.047\n",
            "Epoch: 174 | Train loss: 0.020 | Test loss: 0.047\n",
            "Epoch: 175 | Train loss: 0.020 | Test loss: 0.046\n",
            "Epoch: 176 | Train loss: 0.020 | Test loss: 0.045\n",
            "Epoch: 177 | Train loss: 0.019 | Test loss: 0.044\n",
            "Epoch: 178 | Train loss: 0.019 | Test loss: 0.044\n",
            "Epoch: 179 | Train loss: 0.018 | Test loss: 0.043\n",
            "Epoch: 180 | Train loss: 0.018 | Test loss: 0.042\n",
            "Epoch: 181 | Train loss: 0.018 | Test loss: 0.041\n",
            "Epoch: 182 | Train loss: 0.017 | Test loss: 0.040\n",
            "Epoch: 183 | Train loss: 0.017 | Test loss: 0.039\n",
            "Epoch: 184 | Train loss: 0.017 | Test loss: 0.039\n",
            "Epoch: 185 | Train loss: 0.016 | Test loss: 0.038\n",
            "Epoch: 186 | Train loss: 0.016 | Test loss: 0.037\n",
            "Epoch: 187 | Train loss: 0.016 | Test loss: 0.036\n",
            "Epoch: 188 | Train loss: 0.015 | Test loss: 0.035\n",
            "Epoch: 189 | Train loss: 0.015 | Test loss: 0.035\n",
            "Epoch: 190 | Train loss: 0.015 | Test loss: 0.034\n",
            "Epoch: 191 | Train loss: 0.014 | Test loss: 0.033\n",
            "Epoch: 192 | Train loss: 0.014 | Test loss: 0.032\n",
            "Epoch: 193 | Train loss: 0.014 | Test loss: 0.031\n",
            "Epoch: 194 | Train loss: 0.013 | Test loss: 0.031\n",
            "Epoch: 195 | Train loss: 0.013 | Test loss: 0.030\n",
            "Epoch: 196 | Train loss: 0.013 | Test loss: 0.029\n",
            "Epoch: 197 | Train loss: 0.012 | Test loss: 0.028\n",
            "Epoch: 198 | Train loss: 0.012 | Test loss: 0.027\n",
            "Epoch: 199 | Train loss: 0.012 | Test loss: 0.027\n",
            "Epoch: 200 | Train loss: 0.011 | Test loss: 0.026\n",
            "Epoch: 201 | Train loss: 0.011 | Test loss: 0.025\n",
            "Epoch: 202 | Train loss: 0.011 | Test loss: 0.024\n",
            "Epoch: 203 | Train loss: 0.010 | Test loss: 0.023\n",
            "Epoch: 204 | Train loss: 0.010 | Test loss: 0.022\n",
            "Epoch: 205 | Train loss: 0.010 | Test loss: 0.022\n",
            "Epoch: 206 | Train loss: 0.009 | Test loss: 0.021\n",
            "Epoch: 207 | Train loss: 0.009 | Test loss: 0.020\n",
            "Epoch: 208 | Train loss: 0.009 | Test loss: 0.019\n",
            "Epoch: 209 | Train loss: 0.008 | Test loss: 0.019\n",
            "Epoch: 210 | Train loss: 0.008 | Test loss: 0.018\n",
            "Epoch: 211 | Train loss: 0.008 | Test loss: 0.017\n",
            "Epoch: 212 | Train loss: 0.007 | Test loss: 0.016\n",
            "Epoch: 213 | Train loss: 0.007 | Test loss: 0.015\n",
            "Epoch: 214 | Train loss: 0.006 | Test loss: 0.014\n",
            "Epoch: 215 | Train loss: 0.006 | Test loss: 0.014\n",
            "Epoch: 216 | Train loss: 0.006 | Test loss: 0.013\n",
            "Epoch: 217 | Train loss: 0.005 | Test loss: 0.012\n",
            "Epoch: 218 | Train loss: 0.005 | Test loss: 0.011\n",
            "Epoch: 219 | Train loss: 0.005 | Test loss: 0.011\n",
            "Epoch: 220 | Train loss: 0.004 | Test loss: 0.009\n",
            "Epoch: 221 | Train loss: 0.004 | Test loss: 0.009\n",
            "Epoch: 222 | Train loss: 0.004 | Test loss: 0.008\n",
            "Epoch: 223 | Train loss: 0.003 | Test loss: 0.007\n",
            "Epoch: 224 | Train loss: 0.003 | Test loss: 0.006\n",
            "Epoch: 225 | Train loss: 0.003 | Test loss: 0.006\n",
            "Epoch: 226 | Train loss: 0.002 | Test loss: 0.005\n",
            "Epoch: 227 | Train loss: 0.002 | Test loss: 0.004\n",
            "Epoch: 228 | Train loss: 0.002 | Test loss: 0.002\n",
            "Epoch: 229 | Train loss: 0.002 | Test loss: 0.007\n",
            "Epoch: 230 | Train loss: 0.004 | Test loss: 0.006\n",
            "Epoch: 231 | Train loss: 0.008 | Test loss: 0.007\n",
            "Epoch: 232 | Train loss: 0.004 | Test loss: 0.006\n",
            "Epoch: 233 | Train loss: 0.008 | Test loss: 0.007\n",
            "Epoch: 234 | Train loss: 0.004 | Test loss: 0.006\n",
            "Epoch: 235 | Train loss: 0.008 | Test loss: 0.007\n",
            "Epoch: 236 | Train loss: 0.004 | Test loss: 0.006\n",
            "Epoch: 237 | Train loss: 0.008 | Test loss: 0.007\n",
            "Epoch: 238 | Train loss: 0.004 | Test loss: 0.006\n",
            "Epoch: 239 | Train loss: 0.008 | Test loss: 0.007\n",
            "Epoch: 240 | Train loss: 0.004 | Test loss: 0.006\n",
            "Epoch: 241 | Train loss: 0.008 | Test loss: 0.007\n",
            "Epoch: 242 | Train loss: 0.004 | Test loss: 0.006\n",
            "Epoch: 243 | Train loss: 0.008 | Test loss: 0.007\n",
            "Epoch: 244 | Train loss: 0.004 | Test loss: 0.006\n",
            "Epoch: 245 | Train loss: 0.008 | Test loss: 0.007\n",
            "Epoch: 246 | Train loss: 0.004 | Test loss: 0.006\n",
            "Epoch: 247 | Train loss: 0.008 | Test loss: 0.007\n",
            "Epoch: 248 | Train loss: 0.004 | Test loss: 0.006\n",
            "Epoch: 249 | Train loss: 0.008 | Test loss: 0.007\n",
            "Epoch: 250 | Train loss: 0.004 | Test loss: 0.006\n",
            "Epoch: 251 | Train loss: 0.008 | Test loss: 0.007\n",
            "Epoch: 252 | Train loss: 0.004 | Test loss: 0.006\n",
            "Epoch: 253 | Train loss: 0.008 | Test loss: 0.007\n",
            "Epoch: 254 | Train loss: 0.004 | Test loss: 0.006\n",
            "Epoch: 255 | Train loss: 0.008 | Test loss: 0.007\n",
            "Epoch: 256 | Train loss: 0.004 | Test loss: 0.006\n",
            "Epoch: 257 | Train loss: 0.008 | Test loss: 0.007\n",
            "Epoch: 258 | Train loss: 0.004 | Test loss: 0.006\n",
            "Epoch: 259 | Train loss: 0.008 | Test loss: 0.007\n",
            "Epoch: 260 | Train loss: 0.004 | Test loss: 0.006\n",
            "Epoch: 261 | Train loss: 0.008 | Test loss: 0.007\n",
            "Epoch: 262 | Train loss: 0.004 | Test loss: 0.006\n",
            "Epoch: 263 | Train loss: 0.008 | Test loss: 0.007\n",
            "Epoch: 264 | Train loss: 0.004 | Test loss: 0.006\n",
            "Epoch: 265 | Train loss: 0.008 | Test loss: 0.007\n",
            "Epoch: 266 | Train loss: 0.004 | Test loss: 0.006\n",
            "Epoch: 267 | Train loss: 0.008 | Test loss: 0.007\n",
            "Epoch: 268 | Train loss: 0.004 | Test loss: 0.006\n",
            "Epoch: 269 | Train loss: 0.008 | Test loss: 0.007\n",
            "Epoch: 270 | Train loss: 0.004 | Test loss: 0.006\n",
            "Epoch: 271 | Train loss: 0.008 | Test loss: 0.007\n",
            "Epoch: 272 | Train loss: 0.004 | Test loss: 0.006\n",
            "Epoch: 273 | Train loss: 0.008 | Test loss: 0.007\n",
            "Epoch: 274 | Train loss: 0.004 | Test loss: 0.006\n",
            "Epoch: 275 | Train loss: 0.008 | Test loss: 0.007\n",
            "Epoch: 276 | Train loss: 0.004 | Test loss: 0.006\n",
            "Epoch: 277 | Train loss: 0.008 | Test loss: 0.007\n",
            "Epoch: 278 | Train loss: 0.004 | Test loss: 0.006\n",
            "Epoch: 279 | Train loss: 0.008 | Test loss: 0.007\n",
            "Epoch: 280 | Train loss: 0.004 | Test loss: 0.006\n",
            "Epoch: 281 | Train loss: 0.008 | Test loss: 0.007\n",
            "Epoch: 282 | Train loss: 0.004 | Test loss: 0.006\n",
            "Epoch: 283 | Train loss: 0.008 | Test loss: 0.007\n",
            "Epoch: 284 | Train loss: 0.004 | Test loss: 0.006\n",
            "Epoch: 285 | Train loss: 0.008 | Test loss: 0.007\n",
            "Epoch: 286 | Train loss: 0.004 | Test loss: 0.006\n",
            "Epoch: 287 | Train loss: 0.008 | Test loss: 0.007\n",
            "Epoch: 288 | Train loss: 0.004 | Test loss: 0.006\n",
            "Epoch: 289 | Train loss: 0.008 | Test loss: 0.007\n",
            "Epoch: 290 | Train loss: 0.004 | Test loss: 0.006\n",
            "Epoch: 291 | Train loss: 0.008 | Test loss: 0.007\n",
            "Epoch: 292 | Train loss: 0.004 | Test loss: 0.006\n",
            "Epoch: 293 | Train loss: 0.008 | Test loss: 0.007\n",
            "Epoch: 294 | Train loss: 0.004 | Test loss: 0.006\n",
            "Epoch: 295 | Train loss: 0.008 | Test loss: 0.007\n",
            "Epoch: 296 | Train loss: 0.004 | Test loss: 0.006\n",
            "Epoch: 297 | Train loss: 0.008 | Test loss: 0.007\n",
            "Epoch: 298 | Train loss: 0.004 | Test loss: 0.006\n",
            "Epoch: 299 | Train loss: 0.008 | Test loss: 0.007\n"
          ]
        }
      ]
    },
    {
      "cell_type": "markdown",
      "source": [
        "4. Making predictions with the trained model on the test data."
      ],
      "metadata": {
        "id": "vG7qGITTrx7P"
      }
    },
    {
      "cell_type": "code",
      "source": [
        "# 1. Set the model in evaluation mode\n",
        "model_0.eval()\n",
        "\n",
        "# 2. Setup the inference mode context manager\n",
        "with torch.inference_mode():\n",
        "  y_preds = model_0(X_test)\n",
        "y_preds\n"
      ],
      "metadata": {
        "colab": {
          "base_uri": "https://localhost:8080/"
        },
        "id": "HcS0Q1DKreLo",
        "outputId": "4182dcfb-eb16-4924-83ab-916cf3e27cb2"
      },
      "execution_count": 27,
      "outputs": [
        {
          "output_type": "execute_result",
          "data": {
            "text/plain": [
              "tensor([[1.1464],\n",
              "        [1.1495],\n",
              "        [1.1525],\n",
              "        [1.1556],\n",
              "        [1.1587],\n",
              "        [1.1617],\n",
              "        [1.1648],\n",
              "        [1.1679],\n",
              "        [1.1709],\n",
              "        [1.1740],\n",
              "        [1.1771],\n",
              "        [1.1801],\n",
              "        [1.1832],\n",
              "        [1.1863],\n",
              "        [1.1893],\n",
              "        [1.1924],\n",
              "        [1.1955],\n",
              "        [1.1985],\n",
              "        [1.2016],\n",
              "        [1.2047]], device='cuda:0')"
            ]
          },
          "metadata": {},
          "execution_count": 27
        }
      ]
    },
    {
      "cell_type": "code",
      "source": [
        "# Plot the predictions\n",
        "plot_predictions(predictions = y_preds.cpu())"
      ],
      "metadata": {
        "colab": {
          "base_uri": "https://localhost:8080/",
          "height": 599
        },
        "id": "S_cbmQ9vsfq2",
        "outputId": "de088241-0951-42d8-a36e-1086433ba070"
      },
      "execution_count": 28,
      "outputs": [
        {
          "output_type": "display_data",
          "data": {
            "text/plain": [
              "<Figure size 1000x700 with 1 Axes>"
            ],
            "image/png": "[encoded data removed]"
          },
          "metadata": {}
        }
      ]
    },
    {
      "cell_type": "markdown",
      "source": [
        "5. Save your trained model's state_dict() to file."
      ],
      "metadata": {
        "id": "loVR5As5tpC_"
      }
    },
    {
      "cell_type": "code",
      "source": [
        "from pathlib import Path\n",
        "\n",
        "# 1. Create models directory\n",
        "MODEL_PATH = Path(\"models\")\n",
        "MODEL_PATH.mkdir(parents=True, exist_ok=True)\n",
        "\n",
        "# 2. Create model save path\n",
        "MODEL_NAME = \"01_pytorch_workflow_model_0.pth\"\n",
        "MODEL_SAVE_PATH = MODEL_PATH / MODEL_NAME\n",
        "\n",
        "# 3. Save the model state dict\n",
        "print(f\"Saving model to: {MODEL_SAVE_PATH}\")\n",
        "torch.save(obj=model_0.state_dict(),\n",
        "           f=MODEL_SAVE_PATH)"
      ],
      "metadata": {
        "colab": {
          "base_uri": "https://localhost:8080/"
        },
        "id": "cwbFFCyftkRB",
        "outputId": "5fc1c5d4-b5fd-4cf9-db3c-e915ab2054e8"
      },
      "execution_count": 29,
      "outputs": [
        {
          "output_type": "stream",
          "name": "stdout",
          "text": [
            "Saving model to: models/01_pytorch_workflow_model_0.pth\n"
          ]
        }
      ]
    },
    {
      "cell_type": "code",
      "source": [
        "# Create new instance of model and load saved state dict\n",
        "loaded_model_0 = LinearRegressionModel()\n",
        "\n",
        "# Load the state_dict of our saved model\n",
        "loaded_model_0.load_state_dict(torch.load(f=MODEL_SAVE_PATH))\n",
        "loaded_model_0.to(device)"
      ],
      "metadata": {
        "colab": {
          "base_uri": "https://localhost:8080/"
        },
        "id": "TD3otMykuIF3",
        "outputId": "dbc4c442-83e9-4cfb-9d31-2e5a4d816a53"
      },
      "execution_count": 31,
      "outputs": [
        {
          "output_type": "stream",
          "name": "stderr",
          "text": [
            "<ipython-input-31-40321e77688d>:5: FutureWarning: You are using `torch.load` with `weights_only=False` (the current default value), which uses the default pickle module implicitly. It is possible to construct malicious pickle data which will execute arbitrary code during unpickling (See https://github.com/pytorch/pytorch/blob/main/SECURITY.md#untrusted-models for more details). In a future release, the default value for `weights_only` will be flipped to `True`. This limits the functions that could be executed during unpickling. Arbitrary objects will no longer be allowed to be loaded via this mode unless they are explicitly allowlisted by the user via `torch.serialization.add_safe_globals`. We recommend you start setting `weights_only=True` for any use case where you don't have full control of the loaded file. Please open an issue on GitHub for any issues related to this experimental feature.\n",
            "  loaded_model_0.load_state_dict(torch.load(f=MODEL_SAVE_PATH))\n"
          ]
        },
        {
          "output_type": "execute_result",
          "data": {
            "text/plain": [
              "LinearRegressionModel()"
            ]
          },
          "metadata": {},
          "execution_count": 31
        }
      ]
    },
    {
      "cell_type": "code",
      "source": [
        "# Make predictions with loaded model and compare them to the previous\n",
        "with torch.inference_mode():\n",
        "    loaded_model_preds = loaded_model_0(X_test)\n",
        "\n",
        "y_preds == loaded_model_preds"
      ],
      "metadata": {
        "colab": {
          "base_uri": "https://localhost:8080/"
        },
        "id": "Yf7FuVXBuLL2",
        "outputId": "c9e4d3ae-d98e-4556-f3e0-411377244d10"
      },
      "execution_count": 33,
      "outputs": [
        {
          "output_type": "execute_result",
          "data": {
            "text/plain": [
              "tensor([[True],\n",
              "        [True],\n",
              "        [True],\n",
              "        [True],\n",
              "        [True],\n",
              "        [True],\n",
              "        [True],\n",
              "        [True],\n",
              "        [True],\n",
              "        [True],\n",
              "        [True],\n",
              "        [True],\n",
              "        [True],\n",
              "        [True],\n",
              "        [True],\n",
              "        [True],\n",
              "        [True],\n",
              "        [True],\n",
              "        [True],\n",
              "        [True]], device='cuda:0')"
            ]
          },
          "metadata": {},
          "execution_count": 33
        }
      ]
    }
  ]
}