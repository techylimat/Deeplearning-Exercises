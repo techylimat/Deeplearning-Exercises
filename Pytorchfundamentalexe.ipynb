{
  "nbformat": 4,
  "nbformat_minor": 0,
  "metadata": {
    "colab": {
      "provenance": [],
      "gpuType": "T4"
    },
    "kernelspec": {
      "name": "python3",
      "display_name": "Python 3"
    },
    "language_info": {
      "name": "python"
    },
    "accelerator": "GPU"
  },
  "cells": [
    {
      "cell_type": "markdown",
      "source": [
        "1.Documentation reading\n"
      ],
      "metadata": {
        "id": "gV3m9x4QiVWN"
      }
    },
    {
      "cell_type": "code",
      "source": [
        "\n",
        "# No code solution (reading)"
      ],
      "metadata": {
        "id": "Ox429gZkibSZ"
      },
      "execution_count": null,
      "outputs": []
    },
    {
      "cell_type": "markdown",
      "source": [
        "2.Create a random tensor with shape (7, 7)."
      ],
      "metadata": {
        "id": "6TKvKFcVcirQ"
      }
    },
    {
      "cell_type": "code",
      "source": [
        "\n",
        "#Import torch\n",
        "import torch\n",
        "\n",
        "# Create random tensor\n",
        "random_tensor = torch.rand(size = (7,7))\n",
        "random_tensor"
      ],
      "metadata": {
        "colab": {
          "base_uri": "https://localhost:8080/"
        },
        "id": "loO9BKdjckt-",
        "outputId": "74950515-6b41-404c-fe1b-dd9807301c5b"
      },
      "execution_count": null,
      "outputs": [
        {
          "output_type": "execute_result",
          "data": {
            "text/plain": [
              "tensor([[0.8549, 0.5509, 0.2868, 0.2063, 0.4451, 0.3593, 0.7204],\n",
              "        [0.0731, 0.9699, 0.1078, 0.8829, 0.4132, 0.7572, 0.6948],\n",
              "        [0.5209, 0.5932, 0.8797, 0.6286, 0.7653, 0.1132, 0.8559],\n",
              "        [0.6721, 0.6267, 0.5691, 0.7437, 0.9592, 0.3887, 0.2214],\n",
              "        [0.3742, 0.1953, 0.7405, 0.2529, 0.2332, 0.9314, 0.9575],\n",
              "        [0.5575, 0.4134, 0.4355, 0.7369, 0.0331, 0.0914, 0.8994],\n",
              "        [0.9936, 0.4703, 0.1049, 0.5137, 0.2674, 0.4990, 0.7447]])"
            ]
          },
          "metadata": {},
          "execution_count": 9
        }
      ]
    },
    {
      "cell_type": "markdown",
      "source": [
        "3.Perform a matrix multiplication on the tensor from 2 with another random tensor with shape (1, 7) (hint: you may have to transpose the second tensor)."
      ],
      "metadata": {
        "id": "UvcnrXpsdKHg"
      }
    },
    {
      "cell_type": "code",
      "source": [
        "#create another random tensor\n",
        "random_tensor2 = torch.rand(size = (1,7))\n",
        "random_tensor2\n",
        "\n",
        "#perform matrix multiplication\n",
        "Tensor = torch.matmul(random_tensor, random_tensor2.T )\n",
        "Tensor, Tensor.shape"
      ],
      "metadata": {
        "colab": {
          "base_uri": "https://localhost:8080/"
        },
        "id": "Yoyooob8dWDB",
        "outputId": "1241b41b-dc01-43fe-ed13-40de15a6b27c"
      },
      "execution_count": null,
      "outputs": [
        {
          "output_type": "execute_result",
          "data": {
            "text/plain": [
              "(tensor([[1.6914],\n",
              "         [1.7581],\n",
              "         [2.0906],\n",
              "         [1.8975],\n",
              "         [1.7585],\n",
              "         [1.7961],\n",
              "         [1.8900]]),\n",
              " torch.Size([7, 1]))"
            ]
          },
          "metadata": {},
          "execution_count": 10
        }
      ]
    },
    {
      "cell_type": "markdown",
      "source": [
        "4.Set the random seed to 0 and do 2 & 3 over again"
      ],
      "metadata": {
        "id": "NgE6B-RAg9LU"
      }
    },
    {
      "cell_type": "code",
      "source": [
        "# Set manual seed\n",
        "torch.manual_seed(0)\n",
        "\n",
        "# Create two random tensors\n",
        "random_tensor1 = torch.rand(size = (7,7))\n",
        "random_tensor2 = torch.rand(size = (1,7))\n",
        "\n",
        "# Matrix multiply tensors\n",
        "tensor = torch.matmul(random_tensor1, random_tensor2.T)\n",
        "tensor"
      ],
      "metadata": {
        "colab": {
          "base_uri": "https://localhost:8080/"
        },
        "id": "bFkBKc-5hWTs",
        "outputId": "b199465e-c4e4-437e-faba-cd354256c53b"
      },
      "execution_count": null,
      "outputs": [
        {
          "output_type": "execute_result",
          "data": {
            "text/plain": [
              "tensor([[1.8542],\n",
              "        [1.9611],\n",
              "        [2.2884],\n",
              "        [3.0481],\n",
              "        [1.7067],\n",
              "        [2.5290],\n",
              "        [1.7989]])"
            ]
          },
          "metadata": {},
          "execution_count": 11
        }
      ]
    },
    {
      "cell_type": "markdown",
      "source": [
        "5.Speaking of random seeds, we saw how to set it with torch.manual_seed() but is there a GPU equivalent? (hint: you'll need to look into the documentation for torch.cuda for this one)"
      ],
      "metadata": {
        "id": "KAK2heT6i6KJ"
      }
    },
    {
      "cell_type": "code",
      "source": [
        "# Set random seed on the GPU\n",
        "\n",
        "torch.cuda.manual_seed(1234)"
      ],
      "metadata": {
        "id": "UBcPCJkUjPve"
      },
      "execution_count": null,
      "outputs": []
    },
    {
      "cell_type": "markdown",
      "source": [
        "6.Create two random tensors of shape (2, 3) and send them both to the GPU (you'll need access to a GPU for this). Set torch.manual_seed(1234) when creating the tensors (this doesn't have to be the GPU random seed). The output should be something like:"
      ],
      "metadata": {
        "id": "Gp9Z-CzQjcxc"
      }
    },
    {
      "cell_type": "code",
      "source": [
        "# Set random seed\n",
        "torch.manual_seed(1234)\n",
        "\n",
        "# Check for access to GPU\n",
        "device = torch.cuda.is_available()\n",
        "\n",
        "# Create two random tensors on GPU\n",
        "tensor_a = torch.rand(2,3).to(device = 'cuda')\n",
        "tensor_b = torch.rand(2,3).to(device = 'cuda')\n",
        "tensor_a, tensor_b"
      ],
      "metadata": {
        "colab": {
          "base_uri": "https://localhost:8080/"
        },
        "id": "mKDGKsArjXt9",
        "outputId": "57cef8be-fcfe-4033-8008-4d522f2b5a08"
      },
      "execution_count": null,
      "outputs": [
        {
          "output_type": "execute_result",
          "data": {
            "text/plain": [
              "(tensor([[0.0290, 0.4019, 0.2598],\n",
              "         [0.3666, 0.0583, 0.7006]], device='cuda:0'),\n",
              " tensor([[0.0518, 0.4681, 0.6738],\n",
              "         [0.3315, 0.7837, 0.5631]], device='cuda:0'))"
            ]
          },
          "metadata": {},
          "execution_count": 13
        }
      ]
    },
    {
      "cell_type": "markdown",
      "source": [
        "7.Perform a matrix multiplication on the tensors you created in 6 (again, you may have to adjust the shapes of one of the tensors)."
      ],
      "metadata": {
        "id": "Anrj-GeZHxub"
      }
    },
    {
      "cell_type": "code",
      "source": [
        "\n",
        "# Perform matmul on tensor_A and tensor_B\n",
        "tensor_a = torch.rand(2,3).to(device = 'cuda')\n",
        "tensor_b = torch.rand(2,3).to(device = 'cuda')\n",
        "tensor = torch.matmul(tensor_a, tensor_b.T)\n",
        "tensor, tensor.shape"
      ],
      "metadata": {
        "colab": {
          "base_uri": "https://localhost:8080/"
        },
        "id": "OsgdQ1nsHzfk",
        "outputId": "ad02e301-31aa-4819-ea79-dd7dbeb374e9"
      },
      "execution_count": null,
      "outputs": [
        {
          "output_type": "execute_result",
          "data": {
            "text/plain": [
              "(tensor([[0.3803, 0.5159],\n",
              "         [0.3943, 0.4501]], device='cuda:0'),\n",
              " torch.Size([2, 2]))"
            ]
          },
          "metadata": {},
          "execution_count": 20
        }
      ]
    },
    {
      "cell_type": "markdown",
      "source": [
        " 8.Find the maximum and minimum values of the output of 7."
      ],
      "metadata": {
        "id": "47i6WOISJDXP"
      }
    },
    {
      "cell_type": "code",
      "source": [
        "# Find max\n",
        "max = torch.max(tensor)\n",
        "max\n",
        "# Find min\n",
        "min = torch.min(tensor)\n",
        "min"
      ],
      "metadata": {
        "colab": {
          "base_uri": "https://localhost:8080/"
        },
        "id": "rgfhPWeLJUsL",
        "outputId": "c20cc472-0b21-42c2-a3d8-ee796f55e0e7"
      },
      "execution_count": null,
      "outputs": [
        {
          "output_type": "execute_result",
          "data": {
            "text/plain": [
              "tensor(0.3803, device='cuda:0')"
            ]
          },
          "metadata": {},
          "execution_count": 22
        }
      ]
    },
    {
      "cell_type": "markdown",
      "source": [
        "9.Find the maximum and minimum index values of the output of 7."
      ],
      "metadata": {
        "id": "Lr8DZtE2KM07"
      }
    },
    {
      "cell_type": "code",
      "source": [
        "# Find arg max\n",
        "print(f\"Index where max value occurs: {tensor.argmax()}\")\n",
        "\n",
        "# Find arg min\n",
        "print(f\"Index where min value occurs: {tensor.argmin()}\")\n",
        "\n"
      ],
      "metadata": {
        "colab": {
          "base_uri": "https://localhost:8080/"
        },
        "id": "_O5BseNtKTLr",
        "outputId": "74340257-54c5-4f3a-e6f7-02945b3a6207"
      },
      "execution_count": null,
      "outputs": [
        {
          "output_type": "stream",
          "name": "stdout",
          "text": [
            "Index where max value occurs: 1\n",
            "Index where min value occurs: 0\n"
          ]
        }
      ]
    },
    {
      "cell_type": "markdown",
      "source": [
        "10.Make a random tensor with shape (1, 1, 1, 10) and then create a new tensor with all the 1 dimensions removed to be left with a tensor of shape (10). Set the seed to 7 when you create it and print out the first tensor and it's shape as well as the second tensor and it's shape."
      ],
      "metadata": {
        "id": "w8bVmejefB0P"
      }
    },
    {
      "cell_type": "code",
      "source": [
        "# Set seed\n",
        "torch.manual_seed(7)\n",
        "\n",
        "# Create random tensor\n",
        "tensor_1 = torch.rand(1, 1, 1, 10)\n",
        "\n",
        "# Remove single dimensions\n",
        "tensor_2 = tensor_1.squeeze()\n",
        "\n",
        "# Print out tensors and their shapes\n",
        "print(\"Tensor 1:\", tensor_1)\n",
        "print(\"Shape of Tensor 1:\", tensor_1.shape)\n",
        "\n",
        "print(\"\\nTensor 2:\", tensor_2)\n",
        "print(\"Shape of Tensor 2:\", tensor_2.shape)\n"
      ],
      "metadata": {
        "colab": {
          "base_uri": "https://localhost:8080/"
        },
        "id": "lXHBUxO0fJgd",
        "outputId": "a514d123-040e-403f-9782-d650c546f9b2"
      },
      "execution_count": null,
      "outputs": [
        {
          "output_type": "stream",
          "name": "stdout",
          "text": [
            "Tensor 1: tensor([[[[0.5349, 0.1988, 0.6592, 0.6569, 0.2328, 0.4251, 0.2071, 0.6297,\n",
            "           0.3653, 0.8513]]]])\n",
            "Shape of Tensor 1: torch.Size([1, 1, 1, 10])\n",
            "\n",
            "Tensor 2: tensor([0.5349, 0.1988, 0.6592, 0.6569, 0.2328, 0.4251, 0.2071, 0.6297, 0.3653,\n",
            "        0.8513])\n",
            "Shape of Tensor 2: torch.Size([10])\n"
          ]
        }
      ]
    }
  ]
}